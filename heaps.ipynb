{
 "cells": [
  {
   "attachments": {},
   "cell_type": "markdown",
   "metadata": {},
   "source": [
    "## 2. Heaps定律\n",
    "采用 Heaps 定律 (Heaps’ Law) 来估计词项数目 M。该定律将词项数目估计为一个与文档集 (Collection) 大小相关的函数：\n",
    "$$ M = kT^b $$\n",
    "其中，典型取值$30 \\leq k \\leq 100$，$b \\approx 0.5$。\n",
    "\n",
    "Heaps 定律的核心思想在于，它认为文档集 (Collection) 大小和词汇量 (Vocabulary) 之间最简单的关系就是它们在对数空间 (log-log Space) 中存在线性关系。再简单一点说，在对数空间中，词汇量 M 和文档集尺寸 (词条数量) T 组成一条直线，斜率 (slope) 约为 1/2。"
   ]
  },
  {
   "cell_type": "code",
   "execution_count": 1,
   "metadata": {},
   "outputs": [],
   "source": [
    "with open(\"/path/of/your/corpus.txt\", 'r', encoding='utf-8') as f:\n",
    "    collection = f.readlines()"
   ]
  },
  {
   "cell_type": "code",
   "execution_count": 11,
   "metadata": {},
   "outputs": [],
   "source": [
    "import jieba\n",
    "import math\n",
    "\n",
    "vocab_set = set()\n",
    "M_list = []\n",
    "for doc in collection:\n",
    "    vocab_set.update(set(jieba.lcut(doc)))\n",
    "    M_list.append(math.log10(len(vocab_set)))\n",
    "T_list = [math.log10(t) for t in range(1,len(M_list)+1)]"
   ]
  },
  {
   "cell_type": "code",
   "execution_count": 30,
   "metadata": {},
   "outputs": [
    {
     "name": "stdout",
     "output_type": "stream",
     "text": [
      "(5000,) (5000,)\n",
      "[2.31226906 0.42395235]\n",
      "[3.00000000e+01 3.53897611e-16]\n"
     ]
    },
    {
     "data": {
      "image/png": "[encoded data removed]",
      "text/plain": [
       "<Figure size 432x288 with 1 Axes>"
      ]
     },
     "metadata": {
      "needs_background": "light"
     },
     "output_type": "display_data"
    }
   ],
   "source": [
    "import matplotlib.pyplot as plt\n",
    "import numpy as np\n",
    "from scipy.optimize import curve_fit\n",
    "\n",
    "def func(x, k, b):\n",
    "    return k*(x**b)\n",
    "\n",
    "ydata = np.array(M_list)\n",
    "xdata = np.array(T_list)\n",
    "plt.scatter(xdata, ydata, s=0.5)\n",
    "\n",
    "print(xdata.shape,ydata.shape)\n",
    "popt, pcov = curve_fit(func, xdata, ydata)\n",
    "print(popt)\n",
    "\n",
    "plt.plot(xdata, func(xdata, *popt), 'r-', label='fit: k=%5.3f, b=%5.3f' % tuple(popt))\n",
    "\n",
    "#Constrain the optimization to the region of 30 <= k <= 100, 0 <= b <= 1:\n",
    "popt, pcov = curve_fit(func, xdata, ydata, bounds=([30, 0.], [100, 1.]))\n",
    "print(popt)\n",
    "plt.plot(xdata, func(xdata, *popt), 'g--', label='fit: k=%5.3f, b=%5.3f' % tuple(popt))\n",
    "\n",
    "plt.xlabel('log10 T')\n",
    "plt.ylabel('log10 M')\n",
    "plt.legend()\n",
    "plt.show()"
   ]
  }
 ],
 "metadata": {
  "kernelspec": {
   "display_name": "Python 3",
   "language": "python",
   "name": "python3"
  },
  "language_info": {
   "codemirror_mode": {
    "name": "ipython",
    "version": 3
   },
   "file_extension": ".py",
   "mimetype": "text/x-python",
   "name": "python",
   "nbconvert_exporter": "python",
   "pygments_lexer": "ipython3",
   "version": "3.7.12"
  },
  "orig_nbformat": 4
 },
 "nbformat": 4,
 "nbformat_minor": 2
}
